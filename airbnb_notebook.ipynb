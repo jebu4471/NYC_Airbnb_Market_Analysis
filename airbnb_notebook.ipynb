{
 "cells": [
  {
   "cell_type": "markdown",
   "id": "c747d469-ee97-4b95-880f-feefd5456042",
   "metadata": {
    "id": "bA5ajAmk7XH6"
   },
   "source": [
    "![NYC Skyline](img/nyc.jpg)\n",
    "\n",
    "Welcome to New York City, one of the most-visited cities in the world. There are many [Airbnb](https://www.airbnb.com/) listings in New York City to meet the high demand for temporary lodging for travelers, which can be anywhere between a few nights to many months. In this notebook, we will take a closer look at the New York Airbnb market by combining data from multiple file types like `.csv`, `.tsv`, and `.xlsx`.\n",
    "\n",
    "Recall that **CSV**, **TSV**, and **Excel** files are three common formats for storing data. \n",
    "Three files containing data on 2019 Airbnb listings are available to you:\n",
    "\n",
    "**data/airbnb_price.csv**\n",
    "- **`listing_id`**: unique identifier of listing\n",
    "- **`price`**: nightly listing price in USD\n",
    "- **`nbhood_full`**: name of borough and neighborhood where listing is located\n",
    "\n",
    "**data/airbnb_room_type.xlsx**\n",
    "This is an Excel file containing data on Airbnb listing descriptions and room types.\n",
    "- **`listing_id`**: unique identifier of listing\n",
    "- **`description`**: listing description\n",
    "- **`room_type`**: Airbnb has three types of rooms: shared rooms, private rooms, and entire homes/apartments\n",
    "\n",
    "**data/airbnb_last_review.tsv**\n",
    "This is a TSV file containing data on Airbnb host names and review dates.\n",
    "- **`listing_id`**: unique identifier of listing\n",
    "- **`host_name`**: name of listing host\n",
    "- **`last_review`**: date when the listing was last reviewed\n",
    "\n",
    "Our goals are to convert untidy data into appropriate formats to analyze, and answer key questions including:\n",
    "\n",
    "- What is the average price, per night, of an Airbnb listing in NYC?\n",
    "- How does the average price of an Airbnb listing, per month, compare to the private rental market?\n",
    "- How many adverts are for private rooms?\n",
    "- How do Airbnb listing prices compare across the five NYC boroughs?\n"
   ]
  },
  {
   "cell_type": "code",
   "execution_count": 28,
   "id": "1fdc5784-479e-46cb-b05b-68439dcc94a7",
   "metadata": {
    "executionTime": 190,
    "lastSuccessfullyExecutedCode": "# We've loaded your first package for you! You can add as many cells as you need.\nimport numpy as np\n"
   },
   "outputs": [
    {
     "name": "stdout",
     "output_type": "stream",
     "text": [
      "   listing_id        price                nbhood_full\n",
      "0        2595  225 dollars         Manhattan, Midtown\n",
      "1        3831   89 dollars     Brooklyn, Clinton Hill\n",
      "2        5099  200 dollars     Manhattan, Murray Hill\n",
      "3        5178   79 dollars  Manhattan, Hell's Kitchen\n",
      "4        5238  150 dollars       Manhattan, Chinatown\n",
      "\n",
      "\n",
      "   listing_id                                description        room_type\n",
      "0        2595                      Skylit Midtown Castle  Entire home/apt\n",
      "1        3831            Cozy Entire Floor of Brownstone  Entire home/apt\n",
      "2        5099  Large Cozy 1 BR Apartment In Midtown East  Entire home/apt\n",
      "3        5178            Large Furnished Room Near B'way     private room\n",
      "4        5238         Cute & Cozy Lower East Side 1 bdrm  Entire home/apt\n",
      "\n",
      "\n",
      "   listing_id    host_name   last_review\n",
      "0        2595     Jennifer   May 21 2019\n",
      "1        3831  LisaRoxanne  July 05 2019\n",
      "2        5099        Chris  June 22 2019\n",
      "3        5178     Shunichi  June 24 2019\n",
      "4        5238          Ben  June 09 2019\n"
     ]
    }
   ],
   "source": [
    "#importing packages and loading dataset.\n",
    "import numpy as np\n",
    "import pandas as pd\n",
    "import matplotlib.pyplot as plt\n",
    "import seaborn as sns\n",
    "airbnb_price=pd.read_csv(\"airbnb_price.csv\")\n",
    "airbnb_room_type=pd.read_excel(\"airbnb_room_type.xlsx\")\n",
    "airbnb_review=pd.read_csv(\"airbnb_last_review.tsv\", sep='\\t')\n",
    "\n",
    "print(airbnb_price.head())\n",
    "print('\\n')\n",
    "print(airbnb_room_type.head())\n",
    "print('\\n')\n",
    "print(airbnb_review.head())"
   ]
  },
  {
   "cell_type": "markdown",
   "id": "8752f45b",
   "metadata": {},
   "source": [
    "### 1.What is the average price, per night, of an Airbnb listing in NYC?"
   ]
  },
  {
   "cell_type": "code",
   "execution_count": 2,
   "id": "d6bb4140",
   "metadata": {},
   "outputs": [
    {
     "name": "stdout",
     "output_type": "stream",
     "text": [
      "<class 'pandas.core.frame.DataFrame'>\n",
      "RangeIndex: 25209 entries, 0 to 25208\n",
      "Data columns (total 3 columns):\n",
      " #   Column       Non-Null Count  Dtype \n",
      "---  ------       --------------  ----- \n",
      " 0   listing_id   25209 non-null  int64 \n",
      " 1   price        25209 non-null  object\n",
      " 2   nbhood_full  25209 non-null  object\n",
      "dtypes: int64(1), object(2)\n",
      "memory usage: 591.0+ KB\n"
     ]
    }
   ],
   "source": [
    "airbnb_price.info()"
   ]
  },
  {
   "cell_type": "code",
   "execution_count": 3,
   "id": "a927aaa3",
   "metadata": {},
   "outputs": [
    {
     "name": "stdout",
     "output_type": "stream",
     "text": [
      "   listing_id price                nbhood_full\n",
      "0        2595  225          Manhattan, Midtown\n",
      "1        3831   89      Brooklyn, Clinton Hill\n",
      "2        5099  200      Manhattan, Murray Hill\n",
      "3        5178   79   Manhattan, Hell's Kitchen\n",
      "4        5238  150        Manhattan, Chinatown\n"
     ]
    }
   ],
   "source": [
    "#Removing whitespace and string characters from prices column\n",
    "airbnb_price[\"price\"]=airbnb_price[\"price\"].str.rstrip(\"dollars\")\n",
    "print(airbnb_price.head())"
   ]
  },
  {
   "cell_type": "code",
   "execution_count": 4,
   "id": "aebe1838",
   "metadata": {},
   "outputs": [
    {
     "name": "stdout",
     "output_type": "stream",
     "text": [
      "object\n"
     ]
    }
   ],
   "source": [
    "#checking data type for price column\n",
    "print(airbnb_price[\"price\"].dtype)\n",
    "# Convert data type to numeric\n",
    "airbnb_price[\"price\"]=airbnb_price[\"price\"].astype(int)"
   ]
  },
  {
   "cell_type": "code",
   "execution_count": 5,
   "id": "4274ac5a",
   "metadata": {},
   "outputs": [
    {
     "name": "stdout",
     "output_type": "stream",
     "text": [
      "int32\n"
     ]
    }
   ],
   "source": [
    "print(airbnb_price[\"price\"].dtype)"
   ]
  },
  {
   "cell_type": "code",
   "execution_count": 6,
   "id": "b35bff71",
   "metadata": {},
   "outputs": [
    {
     "name": "stdout",
     "output_type": "stream",
     "text": [
      "count    25209.000000\n",
      "mean       141.777936\n",
      "std        147.349137\n",
      "min          0.000000\n",
      "25%         69.000000\n",
      "50%        105.000000\n",
      "75%        175.000000\n",
      "max       7500.000000\n",
      "Name: price, dtype: float64\n"
     ]
    }
   ],
   "source": [
    "#Print descriptive statistics for the price column\n",
    "print(airbnb_price[\"price\"].describe())"
   ]
  },
  {
   "cell_type": "code",
   "execution_count": 7,
   "id": "1cb11e7e",
   "metadata": {},
   "outputs": [],
   "source": [
    "#prices for listings costing $0, free_listings\n",
    "free_listing=airbnb_price[airbnb_price[\"price\"]==0]\n",
    "#removing all free listings from price column\n",
    "airbnb_price[\"price\"]=airbnb_price[\"price\"].drop(free_listing.index)"
   ]
  },
  {
   "cell_type": "code",
   "execution_count": 8,
   "id": "fe19c720",
   "metadata": {},
   "outputs": [
    {
     "name": "stdout",
     "output_type": "stream",
     "text": [
      "The average price per night for an Airbnb listing in NYC is $141.82\n"
     ]
    }
   ],
   "source": [
    "#calculating average price per night\n",
    "Avg_airbnb_price=airbnb_price[\"price\"].mean()\n",
    "Avg_airbnb_price=round(Avg_airbnb_price,2)\n",
    "print(f\"The average price per night for an Airbnb listing in NYC is ${Avg_airbnb_price}\")"
   ]
  },
  {
   "cell_type": "markdown",
   "id": "83d034fb",
   "metadata": {},
   "source": [
    "###  2.How does the average price of an Airbnb listing, per month, compare to the private rental market?"
   ]
  },
  {
   "cell_type": "code",
   "execution_count": 9,
   "id": "5e45dc8d",
   "metadata": {},
   "outputs": [
    {
     "name": "stdout",
     "output_type": "stream",
     "text": [
      "The average airbnb monthly costs in NY is $4313.61, and the private market price is approximately $3000\n"
     ]
    }
   ],
   "source": [
    "# Add a new column to the prices DataFrame, price_per_month\n",
    "airbnb_price[\"price_per_month\"] = airbnb_price[\"price\"] * 365 / 12\n",
    "\n",
    "# Calculate average_price_per_month\n",
    "avg_price_per_month = round(airbnb_price[\"price_per_month\"].mean(), 2)\n",
    "\n",
    "# Compare monthly Airbnb and rental market price assuming average rental market price is $3000 in NY\n",
    "print(f\"The average airbnb monthly costs in NY is ${avg_price_per_month}, and the private market price is approximately $3000\")"
   ]
  },
  {
   "cell_type": "markdown",
   "id": "cd5c7cc9",
   "metadata": {},
   "source": [
    "###  3. How many adverts are for private rooms?"
   ]
  },
  {
   "cell_type": "code",
   "execution_count": 10,
   "id": "131e195f",
   "metadata": {},
   "outputs": [
    {
     "name": "stdout",
     "output_type": "stream",
     "text": [
      "   listing_id                                description        room_type\n",
      "0        2595                      Skylit Midtown Castle  Entire home/apt\n",
      "1        3831            Cozy Entire Floor of Brownstone  Entire home/apt\n",
      "2        5099  Large Cozy 1 BR Apartment In Midtown East  Entire home/apt\n",
      "3        5178            Large Furnished Room Near B'way     private room\n",
      "4        5238         Cute & Cozy Lower East Side 1 bdrm  Entire home/apt\n"
     ]
    }
   ],
   "source": [
    "#lets print the room type dataset\n",
    "print(airbnb_room_type.head())"
   ]
  },
  {
   "cell_type": "code",
   "execution_count": 11,
   "id": "fae64b33",
   "metadata": {},
   "outputs": [
    {
     "data": {
      "text/plain": [
       "Entire home/apt    8458\n",
       "Private room       7241\n",
       "entire home/apt    2665\n",
       "private room       2248\n",
       "ENTIRE HOME/APT    2143\n",
       "PRIVATE ROOM       1867\n",
       "Shared room         380\n",
       "shared room         110\n",
       "SHARED ROOM          97\n",
       "Name: room_type, dtype: int64"
      ]
     },
     "execution_count": 11,
     "metadata": {},
     "output_type": "execute_result"
    }
   ],
   "source": [
    "#checking the frequencies of room type column\n",
    "airbnb_room_type.room_type.value_counts()"
   ]
  },
  {
   "cell_type": "code",
   "execution_count": 12,
   "id": "3c11e10e",
   "metadata": {},
   "outputs": [
    {
     "name": "stdout",
     "output_type": "stream",
     "text": [
      "entire home/apt    13266\n",
      "private room       11356\n",
      "shared room          587\n",
      "Name: room_type, dtype: int64\n"
     ]
    }
   ],
   "source": [
    "# Convert the room_type column to lowercase\n",
    "airbnb_room_type[\"room_type\"] = airbnb_room_type[\"room_type\"].str.lower()\n",
    "\n",
    "# Update the room_type column to category data type\n",
    "airbnb_room_type[\"room_type\"] = airbnb_room_type[\"room_type\"].astype(\"category\")\n",
    "\n",
    "# Create the variable room_frequencies\n",
    "room_frequencies = airbnb_room_type[\"room_type\"].value_counts()\n",
    "\n",
    "# Print room_frequencies\n",
    "print(room_frequencies)"
   ]
  },
  {
   "cell_type": "markdown",
   "id": "dd6eea20",
   "metadata": {},
   "source": [
    "###  4. How do Airbnb listing prices compare across the five NYC boroughs?"
   ]
  },
  {
   "cell_type": "code",
   "execution_count": 13,
   "id": "7296375d",
   "metadata": {},
   "outputs": [
    {
     "name": "stdout",
     "output_type": "stream",
     "text": [
      "   listing_id    host_name   last_review\n",
      "0        2595     Jennifer   May 21 2019\n",
      "1        3831  LisaRoxanne  July 05 2019\n",
      "2        5099        Chris  June 22 2019\n",
      "3        5178     Shunichi  June 24 2019\n",
      "4        5238          Ben  June 09 2019\n"
     ]
    }
   ],
   "source": [
    "print(airbnb_review.head())"
   ]
  },
  {
   "cell_type": "code",
   "execution_count": 14,
   "id": "e4bb6ea5",
   "metadata": {},
   "outputs": [
    {
     "name": "stdout",
     "output_type": "stream",
     "text": [
      "<class 'pandas.core.frame.DataFrame'>\n",
      "RangeIndex: 25209 entries, 0 to 25208\n",
      "Data columns (total 3 columns):\n",
      " #   Column       Non-Null Count  Dtype \n",
      "---  ------       --------------  ----- \n",
      " 0   listing_id   25209 non-null  int64 \n",
      " 1   host_name    25201 non-null  object\n",
      " 2   last_review  25209 non-null  object\n",
      "dtypes: int64(1), object(2)\n",
      "memory usage: 591.0+ KB\n",
      "None\n"
     ]
    }
   ],
   "source": [
    "print(airbnb_review.info())"
   ]
  },
  {
   "cell_type": "code",
   "execution_count": 15,
   "id": "c352353f",
   "metadata": {},
   "outputs": [
    {
     "name": "stdout",
     "output_type": "stream",
     "text": [
      "The latest Airbnb review is 2019-07-09, the earliest review is 2019-01-01\n"
     ]
    }
   ],
   "source": [
    "# Change the data type of the last_review column to datetime\n",
    "airbnb_review[\"last_review\"] = pd.to_datetime(airbnb_review[\"last_review\"] )\n",
    "\n",
    "# Create first_reviewed, the earliest review date\n",
    "first_reviewed = airbnb_review[\"last_review\"].dt.date.min()\n",
    "\n",
    "# Create last_reviewed, the most recent review date\n",
    "last_reviewed = airbnb_review[\"last_review\"].dt.date.max()\n",
    "\n",
    "# Print the oldest and newest reviews from the DataFrame\n",
    "print(f\"The latest Airbnb review is {last_reviewed}, the earliest review is {first_reviewed}\") "
   ]
  },
  {
   "cell_type": "code",
   "execution_count": 16,
   "id": "c9caef9e",
   "metadata": {},
   "outputs": [
    {
     "name": "stdout",
     "output_type": "stream",
     "text": [
      "There are 0 duplicates in the DataFrame.\n"
     ]
    }
   ],
   "source": [
    "#Joining the DataFrames\n",
    "# Merge prices and room_types to create rooms_and_prices\n",
    "rooms_and_prices = airbnb_price.merge(airbnb_room_type, how=\"outer\", on=\"listing_id\")\n",
    "\n",
    "# Merge rooms_and_prices with the reviews DataFrame to create airbnb_merged\n",
    "airbnb_merged = rooms_and_prices.merge(airbnb_review, how=\"outer\", on=\"listing_id\")\n",
    "\n",
    "# Drop missing values from airbnb_merged\n",
    "airbnb_merged.dropna(inplace=True)\n",
    "\n",
    "# Check if there are any duplicate values\n",
    "print(\"There are {} duplicates in the DataFrame.\".format(airbnb_merged.duplicated().sum()))"
   ]
  },
  {
   "cell_type": "code",
   "execution_count": 17,
   "id": "1534fde1",
   "metadata": {},
   "outputs": [
    {
     "name": "stdout",
     "output_type": "stream",
     "text": [
      "   listing_id  price                nbhood_full  price_per_month  \\\n",
      "0        2595  225.0         Manhattan, Midtown      6843.750000   \n",
      "1        3831   89.0     Brooklyn, Clinton Hill      2707.083333   \n",
      "2        5099  200.0     Manhattan, Murray Hill      6083.333333   \n",
      "3        5178   79.0  Manhattan, Hell's Kitchen      2402.916667   \n",
      "4        5238  150.0       Manhattan, Chinatown      4562.500000   \n",
      "\n",
      "                                 description        room_type    host_name  \\\n",
      "0                      Skylit Midtown Castle  entire home/apt     Jennifer   \n",
      "1            Cozy Entire Floor of Brownstone  entire home/apt  LisaRoxanne   \n",
      "2  Large Cozy 1 BR Apartment In Midtown East  entire home/apt        Chris   \n",
      "3            Large Furnished Room Near B'way     private room     Shunichi   \n",
      "4         Cute & Cozy Lower East Side 1 bdrm  entire home/apt          Ben   \n",
      "\n",
      "  last_review  \n",
      "0  2019-05-21  \n",
      "1  2019-07-05  \n",
      "2  2019-06-22  \n",
      "3  2019-06-24  \n",
      "4  2019-06-09  \n"
     ]
    }
   ],
   "source": [
    "print(airbnb_merged.head())"
   ]
  },
  {
   "cell_type": "markdown",
   "id": "49341004",
   "metadata": {},
   "source": [
    "### Analyzing listing prices by NYC borough"
   ]
  },
  {
   "cell_type": "code",
   "execution_count": 20,
   "id": "db5813ac",
   "metadata": {},
   "outputs": [
    {
     "name": "stdout",
     "output_type": "stream",
     "text": [
      "                     sum    mean  median  count\n",
      "borough                                        \n",
      "Manhattan      1898417.0  184.04   149.0  10315\n",
      "Brooklyn       1275250.0  122.02    95.0  10451\n",
      "Queens          320715.0   92.83    70.0   3455\n",
      "Staten Island    22974.0   86.04    71.0    267\n",
      "Bronx            55156.0   79.25    65.0    696\n"
     ]
    }
   ],
   "source": [
    "# Extract information from the nbhood_full column and store as a new column, borough\n",
    "airbnb_merged[\"borough\"] = airbnb_merged[\"nbhood_full\"].str.partition(\",\")[0]\n",
    "# Group by borough and calculate summary statistics\n",
    "boroughs = airbnb_merged.groupby(\"borough\")[\"price\"].agg([\"sum\", \"mean\", \"median\", \"count\"])\n",
    "\n",
    "# Round boroughs to 2 decimal places, and sort by mean in descending order\n",
    "boroughs = boroughs.round(2).sort_values(\"mean\", ascending=False)\n",
    "# Step 9. Price range by borough\n",
    "print(boroughs)"
   ]
  },
  {
   "cell_type": "code",
   "execution_count": 24,
   "id": "f1f2b7af",
   "metadata": {},
   "outputs": [
    {
     "name": "stdout",
     "output_type": "stream",
     "text": [
      "borough        price_range\n",
      "Bronx          Budget          381\n",
      "               Average         285\n",
      "               Expensive        25\n",
      "               Extravagant       5\n",
      "Brooklyn       Budget         3194\n",
      "               Average        5532\n",
      "               Expensive      1466\n",
      "               Extravagant     259\n",
      "Manhattan      Budget         1148\n",
      "               Average        5285\n",
      "               Expensive      3072\n",
      "               Extravagant     810\n",
      "Queens         Budget         1631\n",
      "               Average        1505\n",
      "               Expensive       291\n",
      "               Extravagant      28\n",
      "Staten Island  Budget          124\n",
      "               Average         123\n",
      "               Expensive        20\n",
      "               Extravagant       0\n",
      "Name: price_range, dtype: int64\n"
     ]
    }
   ],
   "source": [
    "# Create labels for the price range, label_names\n",
    "label_names = [\"Budget\", \"Average\", \"Expensive\", \"Extravagant\"]\n",
    "\n",
    "# Create the label ranges, ranges\n",
    "ranges = [0, 69, 175, 350, np.inf]\n",
    "# Insert new column, price_range, into DataFrame\n",
    "airbnb_merged[\"price_range\"] = pd.cut(airbnb_merged[\"price\"], bins=ranges, labels=label_names)\n",
    "\n",
    "# Calculate occurence frequencies for each label, prices_by_borough\n",
    "prices_by_borough = airbnb_merged.groupby([\"borough\", \"price_range\"])[\"price_range\"].count()\n",
    "\n",
    "print(prices_by_borough)"
   ]
  },
  {
   "cell_type": "code",
   "execution_count": 31,
   "id": "129017c1",
   "metadata": {},
   "outputs": [
    {
     "data": {
      "image/png": "[encoded data removed]",
      "text/plain": [
       "<Figure size 1000x800 with 1 Axes>"
      ]
     },
     "metadata": {},
     "output_type": "display_data"
    }
   ],
   "source": [
    "#plot a count plot of the boroughs regarding the different price ranges\n",
    "plt.figure(figsize=[10, 8])\n",
    "ax = sns.countplot(data=airbnb_merged, x=\"borough\", hue=\"price_range\", palette=sns.color_palette());\n",
    "for container in ax.containers:\n",
    "    ax.bar_label(container, )\n",
    "plt.title(\"Counts of Price levels through the boroughs\");"
   ]
  },
  {
   "cell_type": "code",
   "execution_count": null,
   "id": "9dfa1b15",
   "metadata": {},
   "outputs": [],
   "source": []
  }
 ],
 "metadata": {
  "colab": {
   "name": "Welcome to DataCamp Workspaces.ipynb",
   "provenance": []
  },
  "kernelspec": {
   "display_name": "Python 3 (ipykernel)",
   "language": "python",
   "name": "python3"
  },
  "language_info": {
   "codemirror_mode": {
    "name": "ipython",
    "version": 3
   },
   "file_extension": ".py",
   "mimetype": "text/x-python",
   "name": "python",
   "nbconvert_exporter": "python",
   "pygments_lexer": "ipython3",
   "version": "3.10.9"
  }
 },
 "nbformat": 4,
 "nbformat_minor": 5
}
